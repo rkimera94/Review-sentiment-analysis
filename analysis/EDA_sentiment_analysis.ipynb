{
 "cells": [
  {
   "cell_type": "markdown",
   "id": "e5aa78b0-47a6-4c09-a9c3-876c6f7b061c",
   "metadata": {},
   "source": [
    "### Sentiment Analysis Using Python and ML \n",
    "In the script, I will perform EDA analysis on the Kaggle dataset, imported from the data directory of the project.\n",
    "In the project directory add a data directory where you can save both the original and processed datasets. \n",
    "\n",
    "Also, define the `path` to the project directory. Which  I have added in the `.env`. "
   ]
  },
  {
   "cell_type": "markdown",
   "id": "3190b772-621d-4262-89b5-043625b75646",
   "metadata": {},
   "source": [
    "### Import Libraries  "
   ]
  },
  {
   "cell_type": "code",
   "execution_count": 4,
   "id": "5e005aba-6838-45db-90f8-30d532ba85d6",
   "metadata": {},
   "outputs": [],
   "source": [
    "import pandas as pd \n",
    "import numpy as np\n",
    "import os "
   ]
  },
  {
   "cell_type": "code",
   "execution_count": null,
   "id": "effec7f7-8b3f-444c-aa49-ab0d6e65d6b3",
   "metadata": {},
   "outputs": [],
   "source": []
  }
 ],
 "metadata": {
  "kernelspec": {
   "display_name": "Python [conda env:venv_alice] *",
   "language": "python",
   "name": "conda-env-venv_alice-py"
  },
  "language_info": {
   "codemirror_mode": {
    "name": "ipython",
    "version": 3
   },
   "file_extension": ".py",
   "mimetype": "text/x-python",
   "name": "python",
   "nbconvert_exporter": "python",
   "pygments_lexer": "ipython3",
   "version": "3.11.8"
  }
 },
 "nbformat": 4,
 "nbformat_minor": 5
}
